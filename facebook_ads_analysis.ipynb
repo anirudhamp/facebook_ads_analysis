{
  "nbformat": 4,
  "nbformat_minor": 0,
  "metadata": {
    "colab": {
      "name": "Copy of facebook_ads_analysis.ipynb",
      "provenance": []
    },
    "kernelspec": {
      "name": "python3",
      "display_name": "Python 3"
    }
  },
  "cells": [
    {
      "cell_type": "code",
      "metadata": {
        "id": "h9P6YZdZos8E",
        "colab": {
          "base_uri": "https://localhost:8080/",
          "height": 34
        },
        "outputId": "c2ddd30f-b95e-4e4c-be57-8fdf6a43661a"
      },
      "source": [
        "ls"
      ],
      "execution_count": null,
      "outputs": [
        {
          "output_type": "stream",
          "text": [
            "\u001b[0m\u001b[01;34msample_data\u001b[0m/\n"
          ],
          "name": "stdout"
        }
      ]
    },
    {
      "cell_type": "code",
      "metadata": {
        "id": "8-ZDkcASpAIC",
        "colab": {
          "resources": {
            "http://localhost:8080/nbextensions/google.colab/files.js": {
              "data": "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",
              "ok": true,
              "headers": [
                [
                  "content-type",
                  "application/javascript"
                ]
              ],
              "status": 200,
              "status_text": ""
            }
          },
          "base_uri": "https://localhost:8080/",
          "height": 71
        },
        "outputId": "9f56de4b-ebaa-44cf-d9f5-66c97771a51f"
      },
      "source": [
        "from google.colab import files\n",
        "uploaded = files.upload()"
      ],
      "execution_count": null,
      "outputs": [
        {
          "output_type": "display_data",
          "data": {
            "text/html": [
              "\n",
              "     <input type=\"file\" id=\"files-59059ed1-1c01-4e01-b805-a658f0e50e48\" name=\"files[]\" multiple disabled />\n",
              "     <output id=\"result-59059ed1-1c01-4e01-b805-a658f0e50e48\">\n",
              "      Upload widget is only available when the cell has been executed in the\n",
              "      current browser session. Please rerun this cell to enable.\n",
              "      </output>\n",
              "      <script src=\"/nbextensions/google.colab/files.js\"></script> "
            ],
            "text/plain": [
              "<IPython.core.display.HTML object>"
            ]
          },
          "metadata": {
            "tags": []
          }
        },
        {
          "output_type": "stream",
          "text": [
            "Saving facebook_ads.csv to facebook_ads.csv\n"
          ],
          "name": "stdout"
        }
      ]
    },
    {
      "cell_type": "code",
      "metadata": {
        "id": "AFx0deEfpZla"
      },
      "source": [
        "import io\n",
        "import pandas as pd\n",
        "\n",
        "df = pd.read_csv(io.BytesIO(uploaded['facebook_ads.csv']))\n"
      ],
      "execution_count": null,
      "outputs": []
    },
    {
      "cell_type": "markdown",
      "metadata": {
        "id": "CGstY9FKp1X7"
      },
      "source": [
        "**Description of Data**\n",
        "\n",
        "1. **ad_id** : unique ID for each ad.\n",
        "2. **xyz_campaign_id** : an ID associated with each ad campaign of XYZ company.\n",
        "3. **fb_campaign_id** : an ID associated with how Facebook tracks each campaign.\n",
        "4. **age** : age of the person to whom the ad is shown.\n",
        "5. **gender** : gender of the person to whom the add is shown\n",
        "6. **interest** : a code specifying the category to which the persons interest belongs.\n",
        "7. **Impressions** : the number of times the ad was shown.\n",
        "8. **Clicks** : number of clicks on for that ad.\n",
        "9. **Spent** : Amount paid by company xyz to Facebook, to show that ad.\n",
        "10. **Total conversion** : Total number of people who enquired about the product after seeing the ad.\n",
        "11. **Approved conversion** : Total number of people who bought the product after seeing the ad."
      ]
    },
    {
      "cell_type": "code",
      "metadata": {
        "id": "e4pBtwp2pp6j",
        "colab": {
          "base_uri": "https://localhost:8080/",
          "height": 204
        },
        "outputId": "35343912-92bd-44c9-b399-732f47d5ec5a"
      },
      "source": [
        "df.head()"
      ],
      "execution_count": null,
      "outputs": [
        {
          "output_type": "execute_result",
          "data": {
            "text/html": [
              "<div>\n",
              "<style scoped>\n",
              "    .dataframe tbody tr th:only-of-type {\n",
              "        vertical-align: middle;\n",
              "    }\n",
              "\n",
              "    .dataframe tbody tr th {\n",
              "        vertical-align: top;\n",
              "    }\n",
              "\n",
              "    .dataframe thead th {\n",
              "        text-align: right;\n",
              "    }\n",
              "</style>\n",
              "<table border=\"1\" class=\"dataframe\">\n",
              "  <thead>\n",
              "    <tr style=\"text-align: right;\">\n",
              "      <th></th>\n",
              "      <th>ad_id</th>\n",
              "      <th>xyz_campaign_id</th>\n",
              "      <th>fb_campaign_id</th>\n",
              "      <th>age</th>\n",
              "      <th>gender</th>\n",
              "      <th>interest</th>\n",
              "      <th>Impressions</th>\n",
              "      <th>Clicks</th>\n",
              "      <th>Spent</th>\n",
              "      <th>Total_Conversion</th>\n",
              "      <th>Approved_Conversion</th>\n",
              "    </tr>\n",
              "  </thead>\n",
              "  <tbody>\n",
              "    <tr>\n",
              "      <th>0</th>\n",
              "      <td>708746</td>\n",
              "      <td>916</td>\n",
              "      <td>103916</td>\n",
              "      <td>30-34</td>\n",
              "      <td>M</td>\n",
              "      <td>15</td>\n",
              "      <td>7350</td>\n",
              "      <td>1</td>\n",
              "      <td>1.43</td>\n",
              "      <td>2</td>\n",
              "      <td>1</td>\n",
              "    </tr>\n",
              "    <tr>\n",
              "      <th>1</th>\n",
              "      <td>708749</td>\n",
              "      <td>916</td>\n",
              "      <td>103917</td>\n",
              "      <td>30-34</td>\n",
              "      <td>M</td>\n",
              "      <td>16</td>\n",
              "      <td>17861</td>\n",
              "      <td>2</td>\n",
              "      <td>1.82</td>\n",
              "      <td>2</td>\n",
              "      <td>0</td>\n",
              "    </tr>\n",
              "    <tr>\n",
              "      <th>2</th>\n",
              "      <td>708771</td>\n",
              "      <td>916</td>\n",
              "      <td>103920</td>\n",
              "      <td>30-34</td>\n",
              "      <td>M</td>\n",
              "      <td>20</td>\n",
              "      <td>693</td>\n",
              "      <td>0</td>\n",
              "      <td>0.00</td>\n",
              "      <td>1</td>\n",
              "      <td>0</td>\n",
              "    </tr>\n",
              "    <tr>\n",
              "      <th>3</th>\n",
              "      <td>708815</td>\n",
              "      <td>916</td>\n",
              "      <td>103928</td>\n",
              "      <td>30-34</td>\n",
              "      <td>M</td>\n",
              "      <td>28</td>\n",
              "      <td>4259</td>\n",
              "      <td>1</td>\n",
              "      <td>1.25</td>\n",
              "      <td>1</td>\n",
              "      <td>0</td>\n",
              "    </tr>\n",
              "    <tr>\n",
              "      <th>4</th>\n",
              "      <td>708818</td>\n",
              "      <td>916</td>\n",
              "      <td>103928</td>\n",
              "      <td>30-34</td>\n",
              "      <td>M</td>\n",
              "      <td>28</td>\n",
              "      <td>4133</td>\n",
              "      <td>1</td>\n",
              "      <td>1.29</td>\n",
              "      <td>1</td>\n",
              "      <td>1</td>\n",
              "    </tr>\n",
              "  </tbody>\n",
              "</table>\n",
              "</div>"
            ],
            "text/plain": [
              "    ad_id  xyz_campaign_id  ...  Total_Conversion Approved_Conversion\n",
              "0  708746              916  ...                 2                   1\n",
              "1  708749              916  ...                 2                   0\n",
              "2  708771              916  ...                 1                   0\n",
              "3  708815              916  ...                 1                   0\n",
              "4  708818              916  ...                 1                   1\n",
              "\n",
              "[5 rows x 11 columns]"
            ]
          },
          "metadata": {
            "tags": []
          },
          "execution_count": 8
        }
      ]
    },
    {
      "cell_type": "markdown",
      "metadata": {
        "id": "B2oad-qzwhHS"
      },
      "source": [
        "**Creating features relevant for ad analysis**\n",
        "\n",
        "The following variables are common metrics used in ad analysis and will be added to the dataset:\n",
        "\n",
        "1. Click-through-rate (CTR), which is the percentage of how many impressions became clicks. A high CTR (2 percent as benchmark) is indicative of adverts being well recieved by a relevant audience. A low CTR suggests either both or one of these factors has not been achieved.\n",
        "2. Conversion Rate (CR), is the percentage of clicks that result in a conversion, as defined by the campaign objectives (i.e. sale, contact form completed, downloading an e-book or spending more than a certain time viewing the website).\n",
        "3. Cost Per Click (CPC), on average. This must be considered in combination with other variables (i.e. CR).\n",
        "4. Cost Per Conversion, which combines the CPC and CR metrics.\n",
        "Conversion Value, which is how much each conversion is worth. The target conversion value will depend on what the definition of the conversion is and how this is related to revenue returned for example, when maximising revenue is the business aim.\n",
        "5. Return on Advertising Spend (ROAS), which is the revenue returned as a percentage of the advertising spend.\n",
        "6. Cost Per Mille (CPM), which is the cost of one thousand impressions (useful metric when considering brand awareness as business performance metric).\n",
        "The first features to create are CTR and CPC."
      ]
    },
    {
      "cell_type": "code",
      "metadata": {
        "id": "EkPz03_C9SU2",
        "colab": {
          "base_uri": "https://localhost:8080/",
          "height": 204
        },
        "outputId": "7ce001ab-5e6e-4f0d-b208-827530765aba"
      },
      "source": [
        "# The first features to create are CTR and CPC.\n",
        "\n",
        "df['CTR'] = (df['Clicks']/df['Impressions']*100)\n",
        "df['CPC'] = df['Spent']/df['Clicks']\n",
        "df.head()"
      ],
      "execution_count": null,
      "outputs": [
        {
          "output_type": "execute_result",
          "data": {
            "text/html": [
              "<div>\n",
              "<style scoped>\n",
              "    .dataframe tbody tr th:only-of-type {\n",
              "        vertical-align: middle;\n",
              "    }\n",
              "\n",
              "    .dataframe tbody tr th {\n",
              "        vertical-align: top;\n",
              "    }\n",
              "\n",
              "    .dataframe thead th {\n",
              "        text-align: right;\n",
              "    }\n",
              "</style>\n",
              "<table border=\"1\" class=\"dataframe\">\n",
              "  <thead>\n",
              "    <tr style=\"text-align: right;\">\n",
              "      <th></th>\n",
              "      <th>ad_id</th>\n",
              "      <th>xyz_campaign_id</th>\n",
              "      <th>fb_campaign_id</th>\n",
              "      <th>age</th>\n",
              "      <th>gender</th>\n",
              "      <th>interest</th>\n",
              "      <th>Impressions</th>\n",
              "      <th>Clicks</th>\n",
              "      <th>Spent</th>\n",
              "      <th>Total_Conversion</th>\n",
              "      <th>Approved_Conversion</th>\n",
              "      <th>CTR</th>\n",
              "      <th>CPC</th>\n",
              "    </tr>\n",
              "  </thead>\n",
              "  <tbody>\n",
              "    <tr>\n",
              "      <th>0</th>\n",
              "      <td>708746</td>\n",
              "      <td>916</td>\n",
              "      <td>103916</td>\n",
              "      <td>30-34</td>\n",
              "      <td>M</td>\n",
              "      <td>15</td>\n",
              "      <td>7350</td>\n",
              "      <td>1</td>\n",
              "      <td>1.43</td>\n",
              "      <td>2</td>\n",
              "      <td>1</td>\n",
              "      <td>0.013605</td>\n",
              "      <td>1.43</td>\n",
              "    </tr>\n",
              "    <tr>\n",
              "      <th>1</th>\n",
              "      <td>708749</td>\n",
              "      <td>916</td>\n",
              "      <td>103917</td>\n",
              "      <td>30-34</td>\n",
              "      <td>M</td>\n",
              "      <td>16</td>\n",
              "      <td>17861</td>\n",
              "      <td>2</td>\n",
              "      <td>1.82</td>\n",
              "      <td>2</td>\n",
              "      <td>0</td>\n",
              "      <td>0.011198</td>\n",
              "      <td>0.91</td>\n",
              "    </tr>\n",
              "    <tr>\n",
              "      <th>2</th>\n",
              "      <td>708771</td>\n",
              "      <td>916</td>\n",
              "      <td>103920</td>\n",
              "      <td>30-34</td>\n",
              "      <td>M</td>\n",
              "      <td>20</td>\n",
              "      <td>693</td>\n",
              "      <td>0</td>\n",
              "      <td>0.00</td>\n",
              "      <td>1</td>\n",
              "      <td>0</td>\n",
              "      <td>0.000000</td>\n",
              "      <td>NaN</td>\n",
              "    </tr>\n",
              "    <tr>\n",
              "      <th>3</th>\n",
              "      <td>708815</td>\n",
              "      <td>916</td>\n",
              "      <td>103928</td>\n",
              "      <td>30-34</td>\n",
              "      <td>M</td>\n",
              "      <td>28</td>\n",
              "      <td>4259</td>\n",
              "      <td>1</td>\n",
              "      <td>1.25</td>\n",
              "      <td>1</td>\n",
              "      <td>0</td>\n",
              "      <td>0.023480</td>\n",
              "      <td>1.25</td>\n",
              "    </tr>\n",
              "    <tr>\n",
              "      <th>4</th>\n",
              "      <td>708818</td>\n",
              "      <td>916</td>\n",
              "      <td>103928</td>\n",
              "      <td>30-34</td>\n",
              "      <td>M</td>\n",
              "      <td>28</td>\n",
              "      <td>4133</td>\n",
              "      <td>1</td>\n",
              "      <td>1.29</td>\n",
              "      <td>1</td>\n",
              "      <td>1</td>\n",
              "      <td>0.024195</td>\n",
              "      <td>1.29</td>\n",
              "    </tr>\n",
              "  </tbody>\n",
              "</table>\n",
              "</div>"
            ],
            "text/plain": [
              "    ad_id  xyz_campaign_id  fb_campaign_id  ... Approved_Conversion       CTR   CPC\n",
              "0  708746              916          103916  ...                   1  0.013605  1.43\n",
              "1  708749              916          103917  ...                   0  0.011198  0.91\n",
              "2  708771              916          103920  ...                   0  0.000000   NaN\n",
              "3  708815              916          103928  ...                   0  0.023480  1.25\n",
              "4  708818              916          103928  ...                   1  0.024195  1.29\n",
              "\n",
              "[5 rows x 13 columns]"
            ]
          },
          "metadata": {
            "tags": []
          },
          "execution_count": 14
        }
      ]
    },
    {
      "cell_type": "markdown",
      "metadata": {
        "id": "cp5gyVSo-S0r"
      },
      "source": [
        "To get an initial idea of how the variables are related, look at the correlation between the following. The result is shown in Figure 1.\n",
        "\n"
      ]
    },
    {
      "cell_type": "code",
      "metadata": {
        "id": "kYnYJlwY-UFg"
      },
      "source": [
        "subset_df = df[['CTR', 'CPC', 'Approved_Conversion', 'Total_Conversion', 'Impressions', 'Spent', 'Clicks']].copy()"
      ],
      "execution_count": null,
      "outputs": []
    },
    {
      "cell_type": "code",
      "metadata": {
        "id": "17EKUT7r-bTv",
        "colab": {
          "base_uri": "https://localhost:8080/",
          "height": 730
        },
        "outputId": "140f16d0-e6df-40ae-94ac-50b17d1139e5"
      },
      "source": [
        "import seaborn as sns\n",
        "\n",
        "p1 = sns.clustermap(subset_df.corr())\n"
      ],
      "execution_count": null,
      "outputs": [
        {
          "output_type": "display_data",
          "data": {
            "image/png": "[encoded data removed]",
            "text/plain": [
              "<Figure size 720x720 with 4 Axes>"
            ]
          },
          "metadata": {
            "tags": [],
            "needs_background": "light"
          }
        }
      ]
    },
    {
      "cell_type": "markdown",
      "metadata": {
        "id": "o4DpcIIt_ZTX"
      },
      "source": [
        "To look at the correlation numerically can also do the following.\n",
        "\n"
      ]
    },
    {
      "cell_type": "code",
      "metadata": {
        "id": "nZJ3Kf8V_ggF",
        "colab": {
          "base_uri": "https://localhost:8080/",
          "height": 266
        },
        "outputId": "02e2ddab-0f81-410a-9ff2-add2ffe89108"
      },
      "source": [
        "corr = subset_df.corr(method='pearson')\n",
        "corr"
      ],
      "execution_count": null,
      "outputs": [
        {
          "output_type": "execute_result",
          "data": {
            "text/html": [
              "<div>\n",
              "<style scoped>\n",
              "    .dataframe tbody tr th:only-of-type {\n",
              "        vertical-align: middle;\n",
              "    }\n",
              "\n",
              "    .dataframe tbody tr th {\n",
              "        vertical-align: top;\n",
              "    }\n",
              "\n",
              "    .dataframe thead th {\n",
              "        text-align: right;\n",
              "    }\n",
              "</style>\n",
              "<table border=\"1\" class=\"dataframe\">\n",
              "  <thead>\n",
              "    <tr style=\"text-align: right;\">\n",
              "      <th></th>\n",
              "      <th>CTR</th>\n",
              "      <th>CPC</th>\n",
              "      <th>Approved_Conversion</th>\n",
              "      <th>Total_Conversion</th>\n",
              "      <th>Impressions</th>\n",
              "      <th>Spent</th>\n",
              "      <th>Clicks</th>\n",
              "    </tr>\n",
              "  </thead>\n",
              "  <tbody>\n",
              "    <tr>\n",
              "      <th>CTR</th>\n",
              "      <td>1.000000</td>\n",
              "      <td>-0.378854</td>\n",
              "      <td>-0.006602</td>\n",
              "      <td>0.010721</td>\n",
              "      <td>0.075914</td>\n",
              "      <td>0.140952</td>\n",
              "      <td>0.159290</td>\n",
              "    </tr>\n",
              "    <tr>\n",
              "      <th>CPC</th>\n",
              "      <td>-0.378854</td>\n",
              "      <td>1.000000</td>\n",
              "      <td>0.170040</td>\n",
              "      <td>0.160828</td>\n",
              "      <td>0.208556</td>\n",
              "      <td>0.165464</td>\n",
              "      <td>0.112676</td>\n",
              "    </tr>\n",
              "    <tr>\n",
              "      <th>Approved_Conversion</th>\n",
              "      <td>-0.006602</td>\n",
              "      <td>0.170040</td>\n",
              "      <td>1.000000</td>\n",
              "      <td>0.864034</td>\n",
              "      <td>0.684249</td>\n",
              "      <td>0.593178</td>\n",
              "      <td>0.559526</td>\n",
              "    </tr>\n",
              "    <tr>\n",
              "      <th>Total_Conversion</th>\n",
              "      <td>0.010721</td>\n",
              "      <td>0.160828</td>\n",
              "      <td>0.864034</td>\n",
              "      <td>1.000000</td>\n",
              "      <td>0.812838</td>\n",
              "      <td>0.725379</td>\n",
              "      <td>0.694632</td>\n",
              "    </tr>\n",
              "    <tr>\n",
              "      <th>Impressions</th>\n",
              "      <td>0.075914</td>\n",
              "      <td>0.208556</td>\n",
              "      <td>0.684249</td>\n",
              "      <td>0.812838</td>\n",
              "      <td>1.000000</td>\n",
              "      <td>0.970386</td>\n",
              "      <td>0.948514</td>\n",
              "    </tr>\n",
              "    <tr>\n",
              "      <th>Spent</th>\n",
              "      <td>0.140952</td>\n",
              "      <td>0.165464</td>\n",
              "      <td>0.593178</td>\n",
              "      <td>0.725379</td>\n",
              "      <td>0.970386</td>\n",
              "      <td>1.000000</td>\n",
              "      <td>0.992906</td>\n",
              "    </tr>\n",
              "    <tr>\n",
              "      <th>Clicks</th>\n",
              "      <td>0.159290</td>\n",
              "      <td>0.112676</td>\n",
              "      <td>0.559526</td>\n",
              "      <td>0.694632</td>\n",
              "      <td>0.948514</td>\n",
              "      <td>0.992906</td>\n",
              "      <td>1.000000</td>\n",
              "    </tr>\n",
              "  </tbody>\n",
              "</table>\n",
              "</div>"
            ],
            "text/plain": [
              "                          CTR       CPC  ...     Spent    Clicks\n",
              "CTR                  1.000000 -0.378854  ...  0.140952  0.159290\n",
              "CPC                 -0.378854  1.000000  ...  0.165464  0.112676\n",
              "Approved_Conversion -0.006602  0.170040  ...  0.593178  0.559526\n",
              "Total_Conversion     0.010721  0.160828  ...  0.725379  0.694632\n",
              "Impressions          0.075914  0.208556  ...  0.970386  0.948514\n",
              "Spent                0.140952  0.165464  ...  1.000000  0.992906\n",
              "Clicks               0.159290  0.112676  ...  0.992906  1.000000\n",
              "\n",
              "[7 rows x 7 columns]"
            ]
          },
          "metadata": {
            "tags": []
          },
          "execution_count": 21
        }
      ]
    },
    {
      "cell_type": "code",
      "metadata": {
        "id": "frzN_efrBefx",
        "colab": {
          "base_uri": "https://localhost:8080/",
          "height": 405
        },
        "outputId": "bd2ee349-7e73-4b94-d71f-49fda53a79e6"
      },
      "source": [
        "import matplotlib. pyplot as plt\n",
        "\n",
        "plt.rcParams['figure.figsize'] = [16, 6]\n",
        "\n",
        "fig, ax = plt.subplots(nrows=1, ncols=2)\n",
        "\n",
        "ax=ax.flatten()\n",
        "\n",
        "cols = ['Clicks','Total_Conversion']\n",
        "colors=['#415952', '#243AB5']\n",
        "j=0\n",
        "\n",
        "for i in ax:\n",
        "    if j==0:\n",
        "        i.set_ylabel('Spent')\n",
        "    i.scatter(subset_df[cols[j]], subset_df['Spent'],  alpha=0.5, color=colors[j])\n",
        "    i.set_xlabel(cols[j])\n",
        "    i.set_title('Pearson: %s'%subset_df.corr().loc[cols[j]]['Spent'].round(2)+' Spearman: %s'%subset_df.corr(method='spearman').loc[cols[j]]['Spent'].round(2))\n",
        "    j+=1\n",
        "\n",
        "plt.show()"
      ],
      "execution_count": null,
      "outputs": [
        {
          "output_type": "display_data",
          "data": {
            "image/png": "[encoded data removed]",
            "text/plain": [
              "<Figure size 1152x432 with 2 Axes>"
            ]
          },
          "metadata": {
            "tags": [],
            "needs_background": "light"
          }
        }
      ]
    },
    {
      "cell_type": "markdown",
      "metadata": {
        "id": "qiX3u_3aCDPX"
      },
      "source": [
        "It is reassuring that the higher the spend, the more clicks and although less reliably, the more conversions. However, in order to be able to provide an improvement in the desired business performance, in this case maximising revenue, actionable insights have to be obtained. The data is broken down into different campaigns, which will need to be analysed in turn."
      ]
    },
    {
      "cell_type": "markdown",
      "metadata": {
        "id": "Ap-HHqzFCWUt"
      },
      "source": [
        "![alt text](https://www.cedwards.info/img/figuresfacebookeda/plot3.png)"
      ]
    },
    {
      "cell_type": "markdown",
      "metadata": {
        "id": "APSP7SzZCefA"
      },
      "source": [
        "Figure shows campaign 1178 has the biggest spend, so this is the one that will be focussed on further.\n",
        "\n"
      ]
    },
    {
      "cell_type": "markdown",
      "metadata": {
        "id": "jNipJrWcCk_7"
      },
      "source": [
        "# **Looking at specific campaigns**\n"
      ]
    },
    {
      "cell_type": "code",
      "metadata": {
        "id": "tW7WO9-NChqR",
        "colab": {
          "base_uri": "https://localhost:8080/",
          "height": 204
        },
        "outputId": "d8229e4d-58c5-4901-f703-7f5ad5b30214"
      },
      "source": [
        "cam_df_1178 = df[df['xyz_campaign_id']==1178]\n",
        "cam_df_1178.head()"
      ],
      "execution_count": null,
      "outputs": [
        {
          "output_type": "execute_result",
          "data": {
            "text/html": [
              "<div>\n",
              "<style scoped>\n",
              "    .dataframe tbody tr th:only-of-type {\n",
              "        vertical-align: middle;\n",
              "    }\n",
              "\n",
              "    .dataframe tbody tr th {\n",
              "        vertical-align: top;\n",
              "    }\n",
              "\n",
              "    .dataframe thead th {\n",
              "        text-align: right;\n",
              "    }\n",
              "</style>\n",
              "<table border=\"1\" class=\"dataframe\">\n",
              "  <thead>\n",
              "    <tr style=\"text-align: right;\">\n",
              "      <th></th>\n",
              "      <th>ad_id</th>\n",
              "      <th>xyz_campaign_id</th>\n",
              "      <th>fb_campaign_id</th>\n",
              "      <th>age</th>\n",
              "      <th>gender</th>\n",
              "      <th>interest</th>\n",
              "      <th>Impressions</th>\n",
              "      <th>Clicks</th>\n",
              "      <th>Spent</th>\n",
              "      <th>Total_Conversion</th>\n",
              "      <th>Approved_Conversion</th>\n",
              "      <th>CTR</th>\n",
              "      <th>CPC</th>\n",
              "    </tr>\n",
              "  </thead>\n",
              "  <tbody>\n",
              "    <tr>\n",
              "      <th>518</th>\n",
              "      <td>1121091</td>\n",
              "      <td>1178</td>\n",
              "      <td>144531</td>\n",
              "      <td>30-34</td>\n",
              "      <td>M</td>\n",
              "      <td>10</td>\n",
              "      <td>1194718</td>\n",
              "      <td>141</td>\n",
              "      <td>254.049996</td>\n",
              "      <td>28</td>\n",
              "      <td>14</td>\n",
              "      <td>0.011802</td>\n",
              "      <td>1.801773</td>\n",
              "    </tr>\n",
              "    <tr>\n",
              "      <th>519</th>\n",
              "      <td>1121092</td>\n",
              "      <td>1178</td>\n",
              "      <td>144531</td>\n",
              "      <td>30-34</td>\n",
              "      <td>M</td>\n",
              "      <td>10</td>\n",
              "      <td>637648</td>\n",
              "      <td>67</td>\n",
              "      <td>122.400000</td>\n",
              "      <td>13</td>\n",
              "      <td>5</td>\n",
              "      <td>0.010507</td>\n",
              "      <td>1.826866</td>\n",
              "    </tr>\n",
              "    <tr>\n",
              "      <th>520</th>\n",
              "      <td>1121094</td>\n",
              "      <td>1178</td>\n",
              "      <td>144531</td>\n",
              "      <td>30-34</td>\n",
              "      <td>M</td>\n",
              "      <td>10</td>\n",
              "      <td>24362</td>\n",
              "      <td>0</td>\n",
              "      <td>0.000000</td>\n",
              "      <td>1</td>\n",
              "      <td>1</td>\n",
              "      <td>0.000000</td>\n",
              "      <td>NaN</td>\n",
              "    </tr>\n",
              "    <tr>\n",
              "      <th>521</th>\n",
              "      <td>1121095</td>\n",
              "      <td>1178</td>\n",
              "      <td>144531</td>\n",
              "      <td>30-34</td>\n",
              "      <td>M</td>\n",
              "      <td>10</td>\n",
              "      <td>459690</td>\n",
              "      <td>50</td>\n",
              "      <td>86.330001</td>\n",
              "      <td>5</td>\n",
              "      <td>2</td>\n",
              "      <td>0.010877</td>\n",
              "      <td>1.726600</td>\n",
              "    </tr>\n",
              "    <tr>\n",
              "      <th>522</th>\n",
              "      <td>1121096</td>\n",
              "      <td>1178</td>\n",
              "      <td>144531</td>\n",
              "      <td>30-34</td>\n",
              "      <td>M</td>\n",
              "      <td>10</td>\n",
              "      <td>750060</td>\n",
              "      <td>86</td>\n",
              "      <td>161.909999</td>\n",
              "      <td>11</td>\n",
              "      <td>2</td>\n",
              "      <td>0.011466</td>\n",
              "      <td>1.882674</td>\n",
              "    </tr>\n",
              "  </tbody>\n",
              "</table>\n",
              "</div>"
            ],
            "text/plain": [
              "       ad_id  xyz_campaign_id  ...       CTR       CPC\n",
              "518  1121091             1178  ...  0.011802  1.801773\n",
              "519  1121092             1178  ...  0.010507  1.826866\n",
              "520  1121094             1178  ...  0.000000       NaN\n",
              "521  1121095             1178  ...  0.010877  1.726600\n",
              "522  1121096             1178  ...  0.011466  1.882674\n",
              "\n",
              "[5 rows x 13 columns]"
            ]
          },
          "metadata": {
            "tags": []
          },
          "execution_count": 38
        }
      ]
    },
    {
      "cell_type": "markdown",
      "metadata": {
        "id": "Mj1rJlS_SZ9P"
      },
      "source": [
        "**Missing data**\n",
        "\n",
        "The amount of missing data was checked, as shown in the table below which shows the percentage of missing data for each variable. Missing values are only present for the CPC variable, where clicks and spent equal 0, returning NAN."
      ]
    },
    {
      "cell_type": "code",
      "metadata": {
        "id": "CbkWHfulDjQ0",
        "colab": {
          "base_uri": "https://localhost:8080/",
          "height": 452
        },
        "outputId": "b51ecda8-0f16-4a36-8f17-201bd016afed"
      },
      "source": [
        "columns = cam_df_1178.columns\n",
        "percentage_missing = cam_df_1178.isnull().sum() * 100 / len(cam_df_1178)\n",
        "table_percentage_missing = pd.DataFrame({'column_name': columns,\n",
        "                                 'percentage_missing': percentage_missing})\n",
        "\n",
        "table_percentage_missing"
      ],
      "execution_count": null,
      "outputs": [
        {
          "output_type": "execute_result",
          "data": {
            "text/html": [
              "<div>\n",
              "<style scoped>\n",
              "    .dataframe tbody tr th:only-of-type {\n",
              "        vertical-align: middle;\n",
              "    }\n",
              "\n",
              "    .dataframe tbody tr th {\n",
              "        vertical-align: top;\n",
              "    }\n",
              "\n",
              "    .dataframe thead th {\n",
              "        text-align: right;\n",
              "    }\n",
              "</style>\n",
              "<table border=\"1\" class=\"dataframe\">\n",
              "  <thead>\n",
              "    <tr style=\"text-align: right;\">\n",
              "      <th></th>\n",
              "      <th>column_name</th>\n",
              "      <th>percentage_missing</th>\n",
              "    </tr>\n",
              "  </thead>\n",
              "  <tbody>\n",
              "    <tr>\n",
              "      <th>ad_id</th>\n",
              "      <td>ad_id</td>\n",
              "      <td>0.00</td>\n",
              "    </tr>\n",
              "    <tr>\n",
              "      <th>xyz_campaign_id</th>\n",
              "      <td>xyz_campaign_id</td>\n",
              "      <td>0.00</td>\n",
              "    </tr>\n",
              "    <tr>\n",
              "      <th>fb_campaign_id</th>\n",
              "      <td>fb_campaign_id</td>\n",
              "      <td>0.00</td>\n",
              "    </tr>\n",
              "    <tr>\n",
              "      <th>age</th>\n",
              "      <td>age</td>\n",
              "      <td>0.00</td>\n",
              "    </tr>\n",
              "    <tr>\n",
              "      <th>gender</th>\n",
              "      <td>gender</td>\n",
              "      <td>0.00</td>\n",
              "    </tr>\n",
              "    <tr>\n",
              "      <th>interest</th>\n",
              "      <td>interest</td>\n",
              "      <td>0.00</td>\n",
              "    </tr>\n",
              "    <tr>\n",
              "      <th>Impressions</th>\n",
              "      <td>Impressions</td>\n",
              "      <td>0.00</td>\n",
              "    </tr>\n",
              "    <tr>\n",
              "      <th>Clicks</th>\n",
              "      <td>Clicks</td>\n",
              "      <td>0.00</td>\n",
              "    </tr>\n",
              "    <tr>\n",
              "      <th>Spent</th>\n",
              "      <td>Spent</td>\n",
              "      <td>0.00</td>\n",
              "    </tr>\n",
              "    <tr>\n",
              "      <th>Total_Conversion</th>\n",
              "      <td>Total_Conversion</td>\n",
              "      <td>0.00</td>\n",
              "    </tr>\n",
              "    <tr>\n",
              "      <th>Approved_Conversion</th>\n",
              "      <td>Approved_Conversion</td>\n",
              "      <td>0.00</td>\n",
              "    </tr>\n",
              "    <tr>\n",
              "      <th>CTR</th>\n",
              "      <td>CTR</td>\n",
              "      <td>0.00</td>\n",
              "    </tr>\n",
              "    <tr>\n",
              "      <th>CPC</th>\n",
              "      <td>CPC</td>\n",
              "      <td>1.92</td>\n",
              "    </tr>\n",
              "  </tbody>\n",
              "</table>\n",
              "</div>"
            ],
            "text/plain": [
              "                             column_name  percentage_missing\n",
              "ad_id                              ad_id                0.00\n",
              "xyz_campaign_id          xyz_campaign_id                0.00\n",
              "fb_campaign_id            fb_campaign_id                0.00\n",
              "age                                  age                0.00\n",
              "gender                            gender                0.00\n",
              "interest                        interest                0.00\n",
              "Impressions                  Impressions                0.00\n",
              "Clicks                            Clicks                0.00\n",
              "Spent                              Spent                0.00\n",
              "Total_Conversion        Total_Conversion                0.00\n",
              "Approved_Conversion  Approved_Conversion                0.00\n",
              "CTR                                  CTR                0.00\n",
              "CPC                                  CPC                1.92"
            ]
          },
          "metadata": {
            "tags": []
          },
          "execution_count": 42
        }
      ]
    },
    {
      "cell_type": "markdown",
      "metadata": {
        "id": "jvMYXvf6SqUf"
      },
      "source": [
        "# **Distributions among different demographics**\n"
      ]
    },
    {
      "cell_type": "markdown",
      "metadata": {
        "id": "fhE1q1PnSzVI"
      },
      "source": [
        "Figure shows basic count distributions for gender and age subgroups. There is no overwhelming unbalanced contributions to these subgroups.\n",
        "\n",
        "![alt text](https://www.cedwards.info/img/figuresfacebookeda/plot4.png)"
      ]
    },
    {
      "cell_type": "markdown",
      "metadata": {
        "id": "V2q-X-P8YHN6"
      },
      "source": [
        "# Further feature engineering\n",
        "\n",
        "When the business aim is to maximise revenue for advertising expenditure, the ROAS metric is very useful. However, this requires the monetary amounts from conversions (Total_conversion) and sales (Approved_conversion) be known. In the following it is a assumed the former is worth $5 and the later $$100. Using this the other metrics were calculated and the resulting dataframe head shown below.\n",
        "\n",
        "**ROAS:** Return On Advertising Spend. A marketing metric that measures the efficacy of a digital advertising campaign. ROAS helps online businesses evaluate which methods are working and how they can improve future advertising efforts.\n",
        "\n",
        "**CPM:** Cost per thousand, also called cost per mille, is a marketing term used to denote the price of 1,000 advertisement impressions on one webpage. If a website publisher charges $2.00 CPM, that means an advertiser must pay $2.00 for every 1,000 impressions of its ad.\n"
      ]
    },
    {
      "cell_type": "code",
      "metadata": {
        "id": "Pt3OC43IScY0",
        "colab": {
          "base_uri": "https://localhost:8080/",
          "height": 1000
        },
        "outputId": "bbf431a4-27e8-4a71-dbdd-9d8bd4e9b680"
      },
      "source": [
        "cam_df_1178['totConv'] = cam_df_1178.loc[:,'Total_Conversion'] + cam_df_1178.loc[:,'Approved_Conversion']\n",
        "cam_df_1178['conVal'] = cam_df_1178['Total_Conversion']*5\n",
        "cam_df_1178['appConVal'] = cam_df_1178['Approved_Conversion'] * 100\n",
        "cam_df_1178['totConvVal'] = cam_df_1178['conVal'] + cam_df_1178['appConVal']\n",
        "cam_df_1178['costPerCon'] = round(cam_df_1178['Spent'] / cam_df_1178['totConv'], 2)\n",
        "cam_df_1178['ROAS'] = round(cam_df_1178['totConvVal'] / cam_df_1178['Spent'], 2)\n",
        "cam_df_1178['CPM'] = round((cam_df_1178['Spent'] / cam_df_1178['Impressions']) * 1000, 2)\n",
        "df5 = cam_df_1178.head()\n",
        "df5"
      ],
      "execution_count": null,
      "outputs": [
        {
          "output_type": "stream",
          "text": [
            "/usr/local/lib/python3.6/dist-packages/ipykernel_launcher.py:1: SettingWithCopyWarning: \n",
            "A value is trying to be set on a copy of a slice from a DataFrame.\n",
            "Try using .loc[row_indexer,col_indexer] = value instead\n",
            "\n",
            "See the caveats in the documentation: https://pandas.pydata.org/pandas-docs/stable/user_guide/indexing.html#returning-a-view-versus-a-copy\n",
            "  \"\"\"Entry point for launching an IPython kernel.\n",
            "/usr/local/lib/python3.6/dist-packages/ipykernel_launcher.py:2: SettingWithCopyWarning: \n",
            "A value is trying to be set on a copy of a slice from a DataFrame.\n",
            "Try using .loc[row_indexer,col_indexer] = value instead\n",
            "\n",
            "See the caveats in the documentation: https://pandas.pydata.org/pandas-docs/stable/user_guide/indexing.html#returning-a-view-versus-a-copy\n",
            "  \n",
            "/usr/local/lib/python3.6/dist-packages/ipykernel_launcher.py:3: SettingWithCopyWarning: \n",
            "A value is trying to be set on a copy of a slice from a DataFrame.\n",
            "Try using .loc[row_indexer,col_indexer] = value instead\n",
            "\n",
            "See the caveats in the documentation: https://pandas.pydata.org/pandas-docs/stable/user_guide/indexing.html#returning-a-view-versus-a-copy\n",
            "  This is separate from the ipykernel package so we can avoid doing imports until\n",
            "/usr/local/lib/python3.6/dist-packages/ipykernel_launcher.py:4: SettingWithCopyWarning: \n",
            "A value is trying to be set on a copy of a slice from a DataFrame.\n",
            "Try using .loc[row_indexer,col_indexer] = value instead\n",
            "\n",
            "See the caveats in the documentation: https://pandas.pydata.org/pandas-docs/stable/user_guide/indexing.html#returning-a-view-versus-a-copy\n",
            "  after removing the cwd from sys.path.\n",
            "/usr/local/lib/python3.6/dist-packages/ipykernel_launcher.py:5: SettingWithCopyWarning: \n",
            "A value is trying to be set on a copy of a slice from a DataFrame.\n",
            "Try using .loc[row_indexer,col_indexer] = value instead\n",
            "\n",
            "See the caveats in the documentation: https://pandas.pydata.org/pandas-docs/stable/user_guide/indexing.html#returning-a-view-versus-a-copy\n",
            "  \"\"\"\n",
            "/usr/local/lib/python3.6/dist-packages/ipykernel_launcher.py:6: SettingWithCopyWarning: \n",
            "A value is trying to be set on a copy of a slice from a DataFrame.\n",
            "Try using .loc[row_indexer,col_indexer] = value instead\n",
            "\n",
            "See the caveats in the documentation: https://pandas.pydata.org/pandas-docs/stable/user_guide/indexing.html#returning-a-view-versus-a-copy\n",
            "  \n",
            "/usr/local/lib/python3.6/dist-packages/ipykernel_launcher.py:7: SettingWithCopyWarning: \n",
            "A value is trying to be set on a copy of a slice from a DataFrame.\n",
            "Try using .loc[row_indexer,col_indexer] = value instead\n",
            "\n",
            "See the caveats in the documentation: https://pandas.pydata.org/pandas-docs/stable/user_guide/indexing.html#returning-a-view-versus-a-copy\n",
            "  import sys\n"
          ],
          "name": "stderr"
        },
        {
          "output_type": "execute_result",
          "data": {
            "text/html": [
              "<div>\n",
              "<style scoped>\n",
              "    .dataframe tbody tr th:only-of-type {\n",
              "        vertical-align: middle;\n",
              "    }\n",
              "\n",
              "    .dataframe tbody tr th {\n",
              "        vertical-align: top;\n",
              "    }\n",
              "\n",
              "    .dataframe thead th {\n",
              "        text-align: right;\n",
              "    }\n",
              "</style>\n",
              "<table border=\"1\" class=\"dataframe\">\n",
              "  <thead>\n",
              "    <tr style=\"text-align: right;\">\n",
              "      <th></th>\n",
              "      <th>ad_id</th>\n",
              "      <th>xyz_campaign_id</th>\n",
              "      <th>fb_campaign_id</th>\n",
              "      <th>age</th>\n",
              "      <th>gender</th>\n",
              "      <th>interest</th>\n",
              "      <th>Impressions</th>\n",
              "      <th>Clicks</th>\n",
              "      <th>Spent</th>\n",
              "      <th>Total_Conversion</th>\n",
              "      <th>Approved_Conversion</th>\n",
              "      <th>CTR</th>\n",
              "      <th>CPC</th>\n",
              "      <th>totConv</th>\n",
              "      <th>conVal</th>\n",
              "      <th>appConVal</th>\n",
              "      <th>totConvVal</th>\n",
              "      <th>costPerCon</th>\n",
              "      <th>ROAS</th>\n",
              "      <th>CPM</th>\n",
              "    </tr>\n",
              "  </thead>\n",
              "  <tbody>\n",
              "    <tr>\n",
              "      <th>518</th>\n",
              "      <td>1121091</td>\n",
              "      <td>1178</td>\n",
              "      <td>144531</td>\n",
              "      <td>30-34</td>\n",
              "      <td>M</td>\n",
              "      <td>10</td>\n",
              "      <td>1194718</td>\n",
              "      <td>141</td>\n",
              "      <td>254.049996</td>\n",
              "      <td>28</td>\n",
              "      <td>14</td>\n",
              "      <td>0.011802</td>\n",
              "      <td>1.801773</td>\n",
              "      <td>42</td>\n",
              "      <td>140</td>\n",
              "      <td>1400</td>\n",
              "      <td>1540</td>\n",
              "      <td>6.05</td>\n",
              "      <td>6.06</td>\n",
              "      <td>0.21</td>\n",
              "    </tr>\n",
              "    <tr>\n",
              "      <th>519</th>\n",
              "      <td>1121092</td>\n",
              "      <td>1178</td>\n",
              "      <td>144531</td>\n",
              "      <td>30-34</td>\n",
              "      <td>M</td>\n",
              "      <td>10</td>\n",
              "      <td>637648</td>\n",
              "      <td>67</td>\n",
              "      <td>122.400000</td>\n",
              "      <td>13</td>\n",
              "      <td>5</td>\n",
              "      <td>0.010507</td>\n",
              "      <td>1.826866</td>\n",
              "      <td>18</td>\n",
              "      <td>65</td>\n",
              "      <td>500</td>\n",
              "      <td>565</td>\n",
              "      <td>6.80</td>\n",
              "      <td>4.62</td>\n",
              "      <td>0.19</td>\n",
              "    </tr>\n",
              "    <tr>\n",
              "      <th>520</th>\n",
              "      <td>1121094</td>\n",
              "      <td>1178</td>\n",
              "      <td>144531</td>\n",
              "      <td>30-34</td>\n",
              "      <td>M</td>\n",
              "      <td>10</td>\n",
              "      <td>24362</td>\n",
              "      <td>0</td>\n",
              "      <td>0.000000</td>\n",
              "      <td>1</td>\n",
              "      <td>1</td>\n",
              "      <td>0.000000</td>\n",
              "      <td>NaN</td>\n",
              "      <td>2</td>\n",
              "      <td>5</td>\n",
              "      <td>100</td>\n",
              "      <td>105</td>\n",
              "      <td>0.00</td>\n",
              "      <td>inf</td>\n",
              "      <td>0.00</td>\n",
              "    </tr>\n",
              "    <tr>\n",
              "      <th>521</th>\n",
              "      <td>1121095</td>\n",
              "      <td>1178</td>\n",
              "      <td>144531</td>\n",
              "      <td>30-34</td>\n",
              "      <td>M</td>\n",
              "      <td>10</td>\n",
              "      <td>459690</td>\n",
              "      <td>50</td>\n",
              "      <td>86.330001</td>\n",
              "      <td>5</td>\n",
              "      <td>2</td>\n",
              "      <td>0.010877</td>\n",
              "      <td>1.726600</td>\n",
              "      <td>7</td>\n",
              "      <td>25</td>\n",
              "      <td>200</td>\n",
              "      <td>225</td>\n",
              "      <td>12.33</td>\n",
              "      <td>2.61</td>\n",
              "      <td>0.19</td>\n",
              "    </tr>\n",
              "    <tr>\n",
              "      <th>522</th>\n",
              "      <td>1121096</td>\n",
              "      <td>1178</td>\n",
              "      <td>144531</td>\n",
              "      <td>30-34</td>\n",
              "      <td>M</td>\n",
              "      <td>10</td>\n",
              "      <td>750060</td>\n",
              "      <td>86</td>\n",
              "      <td>161.909999</td>\n",
              "      <td>11</td>\n",
              "      <td>2</td>\n",
              "      <td>0.011466</td>\n",
              "      <td>1.882674</td>\n",
              "      <td>13</td>\n",
              "      <td>55</td>\n",
              "      <td>200</td>\n",
              "      <td>255</td>\n",
              "      <td>12.45</td>\n",
              "      <td>1.57</td>\n",
              "      <td>0.22</td>\n",
              "    </tr>\n",
              "  </tbody>\n",
              "</table>\n",
              "</div>"
            ],
            "text/plain": [
              "       ad_id  xyz_campaign_id  fb_campaign_id  ... costPerCon  ROAS   CPM\n",
              "518  1121091             1178          144531  ...       6.05  6.06  0.21\n",
              "519  1121092             1178          144531  ...       6.80  4.62  0.19\n",
              "520  1121094             1178          144531  ...       0.00   inf  0.00\n",
              "521  1121095             1178          144531  ...      12.33  2.61  0.19\n",
              "522  1121096             1178          144531  ...      12.45  1.57  0.22\n",
              "\n",
              "[5 rows x 20 columns]"
            ]
          },
          "metadata": {
            "tags": []
          },
          "execution_count": 50
        }
      ]
    },
    {
      "cell_type": "markdown",
      "metadata": {
        "id": "InExpnsCa2mR"
      },
      "source": [
        "ROAS of infinity occurs when there are 0 clicks but a conversion. This may have happened because the click wasn't tracked or it occurred at a different time and has been attributed elsewhere. Convert these values to NAN and check for missing data.\n",
        "\n"
      ]
    },
    {
      "cell_type": "code",
      "metadata": {
        "id": "LZANBLNda3z7",
        "colab": {
          "base_uri": "https://localhost:8080/",
          "height": 669
        },
        "outputId": "6d4f0361-b338-4275-abdc-f2b31b8a9ec3"
      },
      "source": [
        "columns_df5 = df5.columns\n",
        "percentage_missing_df5 = df5.isnull().sum() * 100 / len(df5)\n",
        "table_percentage_missing_df5 = pd.DataFrame({'column_name': columns_df5,\n",
        "                                 'percentage_missing': percentage_missing_df5})\n",
        "\n",
        "table_percentage_missing_df5"
      ],
      "execution_count": null,
      "outputs": [
        {
          "output_type": "execute_result",
          "data": {
            "text/html": [
              "<div>\n",
              "<style scoped>\n",
              "    .dataframe tbody tr th:only-of-type {\n",
              "        vertical-align: middle;\n",
              "    }\n",
              "\n",
              "    .dataframe tbody tr th {\n",
              "        vertical-align: top;\n",
              "    }\n",
              "\n",
              "    .dataframe thead th {\n",
              "        text-align: right;\n",
              "    }\n",
              "</style>\n",
              "<table border=\"1\" class=\"dataframe\">\n",
              "  <thead>\n",
              "    <tr style=\"text-align: right;\">\n",
              "      <th></th>\n",
              "      <th>column_name</th>\n",
              "      <th>percentage_missing</th>\n",
              "    </tr>\n",
              "  </thead>\n",
              "  <tbody>\n",
              "    <tr>\n",
              "      <th>ad_id</th>\n",
              "      <td>ad_id</td>\n",
              "      <td>0.0</td>\n",
              "    </tr>\n",
              "    <tr>\n",
              "      <th>xyz_campaign_id</th>\n",
              "      <td>xyz_campaign_id</td>\n",
              "      <td>0.0</td>\n",
              "    </tr>\n",
              "    <tr>\n",
              "      <th>fb_campaign_id</th>\n",
              "      <td>fb_campaign_id</td>\n",
              "      <td>0.0</td>\n",
              "    </tr>\n",
              "    <tr>\n",
              "      <th>age</th>\n",
              "      <td>age</td>\n",
              "      <td>0.0</td>\n",
              "    </tr>\n",
              "    <tr>\n",
              "      <th>gender</th>\n",
              "      <td>gender</td>\n",
              "      <td>0.0</td>\n",
              "    </tr>\n",
              "    <tr>\n",
              "      <th>interest</th>\n",
              "      <td>interest</td>\n",
              "      <td>0.0</td>\n",
              "    </tr>\n",
              "    <tr>\n",
              "      <th>Impressions</th>\n",
              "      <td>Impressions</td>\n",
              "      <td>0.0</td>\n",
              "    </tr>\n",
              "    <tr>\n",
              "      <th>Clicks</th>\n",
              "      <td>Clicks</td>\n",
              "      <td>0.0</td>\n",
              "    </tr>\n",
              "    <tr>\n",
              "      <th>Spent</th>\n",
              "      <td>Spent</td>\n",
              "      <td>0.0</td>\n",
              "    </tr>\n",
              "    <tr>\n",
              "      <th>Total_Conversion</th>\n",
              "      <td>Total_Conversion</td>\n",
              "      <td>0.0</td>\n",
              "    </tr>\n",
              "    <tr>\n",
              "      <th>Approved_Conversion</th>\n",
              "      <td>Approved_Conversion</td>\n",
              "      <td>0.0</td>\n",
              "    </tr>\n",
              "    <tr>\n",
              "      <th>CTR</th>\n",
              "      <td>CTR</td>\n",
              "      <td>0.0</td>\n",
              "    </tr>\n",
              "    <tr>\n",
              "      <th>CPC</th>\n",
              "      <td>CPC</td>\n",
              "      <td>20.0</td>\n",
              "    </tr>\n",
              "    <tr>\n",
              "      <th>totConv</th>\n",
              "      <td>totConv</td>\n",
              "      <td>0.0</td>\n",
              "    </tr>\n",
              "    <tr>\n",
              "      <th>conVal</th>\n",
              "      <td>conVal</td>\n",
              "      <td>0.0</td>\n",
              "    </tr>\n",
              "    <tr>\n",
              "      <th>appConVal</th>\n",
              "      <td>appConVal</td>\n",
              "      <td>0.0</td>\n",
              "    </tr>\n",
              "    <tr>\n",
              "      <th>totConvVal</th>\n",
              "      <td>totConvVal</td>\n",
              "      <td>0.0</td>\n",
              "    </tr>\n",
              "    <tr>\n",
              "      <th>costPerCon</th>\n",
              "      <td>costPerCon</td>\n",
              "      <td>0.0</td>\n",
              "    </tr>\n",
              "    <tr>\n",
              "      <th>ROAS</th>\n",
              "      <td>ROAS</td>\n",
              "      <td>0.0</td>\n",
              "    </tr>\n",
              "    <tr>\n",
              "      <th>CPM</th>\n",
              "      <td>CPM</td>\n",
              "      <td>0.0</td>\n",
              "    </tr>\n",
              "  </tbody>\n",
              "</table>\n",
              "</div>"
            ],
            "text/plain": [
              "                             column_name  percentage_missing\n",
              "ad_id                              ad_id                 0.0\n",
              "xyz_campaign_id          xyz_campaign_id                 0.0\n",
              "fb_campaign_id            fb_campaign_id                 0.0\n",
              "age                                  age                 0.0\n",
              "gender                            gender                 0.0\n",
              "interest                        interest                 0.0\n",
              "Impressions                  Impressions                 0.0\n",
              "Clicks                            Clicks                 0.0\n",
              "Spent                              Spent                 0.0\n",
              "Total_Conversion        Total_Conversion                 0.0\n",
              "Approved_Conversion  Approved_Conversion                 0.0\n",
              "CTR                                  CTR                 0.0\n",
              "CPC                                  CPC                20.0\n",
              "totConv                          totConv                 0.0\n",
              "conVal                            conVal                 0.0\n",
              "appConVal                      appConVal                 0.0\n",
              "totConvVal                    totConvVal                 0.0\n",
              "costPerCon                    costPerCon                 0.0\n",
              "ROAS                                ROAS                 0.0\n",
              "CPM                                  CPM                 0.0"
            ]
          },
          "metadata": {
            "tags": []
          },
          "execution_count": 51
        }
      ]
    },
    {
      "cell_type": "markdown",
      "metadata": {
        "id": "kn_K647tbNND"
      },
      "source": [
        "# Analysis by age, gender and interest\n",
        "\n",
        "In order to improve a similar campaign with a view to maximising revenue return, the variables available in the dataset (in this case age, gender and interest) can be investigated further with respect to the ROAS metric.\n",
        "\n"
      ]
    },
    {
      "cell_type": "markdown",
      "metadata": {
        "id": "MXZTYRxAbTG7"
      },
      "source": [
        "# Analysis by gender"
      ]
    },
    {
      "cell_type": "markdown",
      "metadata": {
        "id": "xms25nKwbVUG"
      },
      "source": [
        "![alt text](https://www.cedwards.info/img/figuresfacebookeda/plot5.png)"
      ]
    },
    {
      "cell_type": "code",
      "metadata": {
        "id": "IlO6K1OObuKn"
      },
      "source": [
        ""
      ],
      "execution_count": null,
      "outputs": []
    }
  ]
}